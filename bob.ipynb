from statsmodels.tsa.stattools import acf, pacf, adfuller
from statsmodels.graphics.tsaplots import plot_acf, plot_pacf
import scipy.stats as stats

def calculate_autocorrelations(data, lags=40):
    """Calculate ACF and PACF"""
    acf_values = acf(data, nlags=lags)
    pacf_values = pacf(data, nlags=lags)
    return acf_values, pacf_values

def plot_correlations(data, lags=40):
    """Plot ACF and PACF"""
    fig, axes = plt.subplots(2, 1, figsize=(12, 8))
    
    plot_acf(data, lags=lags, ax=axes[0])
    plot_pacf(data, lags=lags, ax=axes[1])
    
    plt.tight_layout()
    plt.show()

def stationarity_test(data):
    """Perform ADF test for stationarity"""
    result = adfuller(data.dropna())
    
    print('ADF Statistic:', result[0])
    print('p-value:', result[1])
    print('Critical Values:')
    for key, value in result[4].items():
        print(f'\t{key}: {value}')
    
    if result[1] <= 0.05:
        print("Series is stationary (reject null hypothesis)")
    else:
        print("Series is non-stationary (fail to reject null hypothesis)")

def lagged_correlation_analysis(data, max_lags=10):
    """Analyze lagged correlations"""
    correlations = []
    for lag in range(1, max_lags + 1):
        lagged_data = data.shift(lag)
        corr = data.corr(lagged_data)
        correlations.append(corr)
    
    plt.figure(figsize=(10, 6))
    plt.plot(range(1, max_lags + 1), correlations, 'bo-')
    plt.axhline(y=0, color='r', linestyle='--')
    plt.title('Lagged Correlations')
    plt.xlabel('Lag')
    plt.ylabel('Correlation')
    plt.grid(True, alpha=0.3)
    plt.show()
    
    return correlations
